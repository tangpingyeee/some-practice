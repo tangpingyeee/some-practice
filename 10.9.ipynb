{
 "cells": [
  {
   "cell_type": "code",
   "execution_count": 3,
   "id": "ba221cd3-20e6-446b-9a35-48b69a6a371b",
   "metadata": {},
   "outputs": [
    {
     "name": "stdout",
     "output_type": "stream",
     "text": [
      "11001011101100110001100100100101\n"
     ]
    }
   ],
   "source": [
    "class Stack:\n",
    "    def __init__(self):\n",
    "        self.__items = []\n",
    "    def isempty(self):  # 返回堆栈是否为空\n",
    "        if len(self.__items) == 0:\n",
    "            return True\n",
    "        else:\n",
    "            return False\n",
    "    def length(self):\n",
    "        return len(self.__items)\n",
    "    def push(self,element):  # 压入堆栈\n",
    "        self.__items.append(element)\n",
    "    def pop(self):  # 弹出堆栈，注意需要处理堆栈为空的情况\n",
    "        try:\n",
    "            return self.__items.pop()\n",
    "        except:\n",
    "            print('ERROR: Stack is empty now!')\n",
    "def turn2(num):\n",
    "    sh = Stack()\n",
    "    while num != 0:\n",
    "        sh.push(num % 2)\n",
    "        num = num // 2\n",
    "    while sh.length() != 8:\n",
    "        sh.push(0)\n",
    "    result = ''\n",
    "    while sh.isempty() == False:\n",
    "        result += str(sh.pop())\n",
    "    return result\n",
    "ip_dec = '203.179.25.37'\n",
    "ip_dec_list = ip_dec.split('.')\n",
    "result = ''\n",
    "for ip in ip_dec_list:\n",
    "    result += turn2(int(ip))\n",
    "print(result)\n",
    "\n",
    "\n",
    "\n",
    "\n",
    "\n",
    "\n"
   ]
  },
  {
   "cell_type": "code",
   "execution_count": null,
   "id": "64ea4f40-f322-4d8d-8443-1f7d72a1e033",
   "metadata": {},
   "outputs": [],
   "source": [
    "class line():\n",
    "    def _init_(self):\n",
    "        self._items=[]\n",
    "    def size(self):\n",
    "        return len(self._items)\n",
    "    def isempty(self):\n",
    "        if(len(self._items)==0):\n",
    "            return True\n",
    "        else:\n",
    "            return False\n",
    "    def push(self,element):\n",
    "        self._items.append(element)\n",
    "    def pop(self):\n",
    "        try:\n",
    "            return self._items.pop(0)\n",
    "        except:\n",
    "            print(\"error,empty now\")\n",
    "    def peekhead(self):\n",
    "        return self._items[0]\n",
    "    def peektail(self):\n",
    "        return self._items[-1]\n",
    "    \n",
    "\n"
   ]
  },
  {
   "cell_type": "code",
   "execution_count": 2,
   "id": "5457eec7-9592-42fc-a4da-278f77e18f1c",
   "metadata": {},
   "outputs": [
    {
     "name": "stdout",
     "output_type": "stream",
     "text": [
      "353620874"
     ]
    }
   ],
   "source": [
    "class line():\n",
    "    def __init__(self):\n",
    "        self._items=[]\n",
    "    def size(self):\n",
    "        return len(self._items)\n",
    "    def isempty(self):\n",
    "        if(len(self._items)==0):\n",
    "            return True\n",
    "        else:\n",
    "            return False\n",
    "    def push(self,element):\n",
    "        self._items.append(element)\n",
    "    def pop(self):\n",
    "        try:\n",
    "            return self._items.pop(0)\n",
    "        except:\n",
    "            print(\"error,empty now\")\n",
    "    def peekhead(self):\n",
    "        return self._items[0]\n",
    "    def peektail(self):\n",
    "        return self._items[-1]\n",
    "    \n",
    "\n",
    "class tree:\n",
    "    l=line()\n",
    "    def __init__ (self,data=None,left=None,right=None):\n",
    "        self.data=data\n",
    "        self.left=left\n",
    "        self.right=right\n",
    "    def level(self):\n",
    "        tree.l.push(self)\n",
    "        while tree.l.isempty()==False:\n",
    "            node=tree.l.pop()\n",
    "            print(node.data,end='')\n",
    "            if node.left!=None:\n",
    "                tree.l.push(node.left)\n",
    "            if node.right!=None:\n",
    "                tree.l.push(node.right)\n",
    "lay3_2=tree(2,tree(7),tree(4))\n",
    "lay2_5=tree(5,tree(6),lay3_2)\n",
    "lay2_1=tree(3,tree(0),tree(8))\n",
    "lay1_3=tree(3,lay2_5,lay2_1)\n",
    "lay1_3.level()"
   ]
  },
  {
   "cell_type": "code",
   "execution_count": 4,
   "id": "b17f8436-f086-433d-8f76-902f555aeec5",
   "metadata": {},
   "outputs": [
    {
     "name": "stdout",
     "output_type": "stream",
     "text": [
      "8 0 4 7 6 "
     ]
    }
   ],
   "source": [
    "class BinaryTree:\n",
    "    def __init__(self,data=None,left=None,right=None):  # 如果创建节点对象时left或right参数为空，则默认该节点没有左或右子树\n",
    "        self.data=data\n",
    "        self.left=left\n",
    "        self.right=right\n",
    "    def peorder(self):  \n",
    "         if self.left == None and self.right == None:\n",
    "            print(self.data,end=\" \")\n",
    "         if self.right!=None:\n",
    "            self.right.peorder()\n",
    "         if self.left!=None:\n",
    "            self.left.peorder()\n",
    "\n",
    "layer3_2 = BinaryTree(2,BinaryTree(7),BinaryTree(4))\n",
    "layer2_5 = BinaryTree(5,BinaryTree(6),layer3_2)\n",
    "layer2_1 = BinaryTree(1,BinaryTree(0),BinaryTree(8))\n",
    "layer1_3 = BinaryTree(3,layer2_5,layer2_1)\n",
    "\n",
    "layer1_3.peorder()\n",
    "        "
   ]
  },
  {
   "cell_type": "code",
   "execution_count": null,
   "id": "69fb0936-4b0a-46d8-b993-7ac08e480609",
   "metadata": {},
   "outputs": [],
   "source": []
  }
 ],
 "metadata": {
  "kernelspec": {
   "display_name": "Python 3 (ipykernel)",
   "language": "python",
   "name": "python3"
  },
  "language_info": {
   "codemirror_mode": {
    "name": "ipython",
    "version": 3
   },
   "file_extension": ".py",
   "mimetype": "text/x-python",
   "name": "python",
   "nbconvert_exporter": "python",
   "pygments_lexer": "ipython3",
   "version": "3.9.12"
  }
 },
 "nbformat": 4,
 "nbformat_minor": 5
}
