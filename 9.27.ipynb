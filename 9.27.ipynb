{
 "cells": [
  {
   "cell_type": "code",
   "execution_count": 1,
   "id": "6c0c090c-fe07-44f7-a442-b9a39f2e7b2f",
   "metadata": {},
   "outputs": [
    {
     "name": "stdout",
     "output_type": "stream",
     "text": [
      "1\n",
      "3\n",
      "5\n",
      "7\n",
      "9\n",
      "11\n",
      "13\n",
      "15\n",
      "17\n",
      "19\n",
      "21\n",
      "23\n",
      "25\n",
      "27\n",
      "29\n",
      "31\n",
      "33\n",
      "35\n",
      "37\n",
      "39\n",
      "41\n",
      "43\n",
      "45\n",
      "47\n",
      "49\n",
      "51\n",
      "53\n",
      "55\n",
      "57\n",
      "59\n",
      "61\n",
      "63\n",
      "65\n",
      "67\n",
      "69\n",
      "71\n",
      "73\n",
      "75\n",
      "77\n",
      "79\n",
      "81\n",
      "83\n",
      "85\n",
      "87\n",
      "89\n",
      "91\n",
      "93\n",
      "95\n",
      "97\n",
      "99\n",
      "58435841445947272053455474390625\n"
     ]
    }
   ],
   "source": [
    "answer=1\n",
    "i=1\n",
    "while(i<101):\n",
    "    if(i<=50):\n",
    "         answer=answer*i\n",
    "    print(i)\n",
    "    i=i+2\n",
    "print(answer)\n",
    "    \n"
   ]
  },
  {
   "cell_type": "code",
   "execution_count": 2,
   "id": "fe58642e-b89b-491c-924c-30c4dd8e4240",
   "metadata": {},
   "outputs": [
    {
     "name": "stdin",
     "output_type": "stream",
     "text": [
      "输入： e t  y  w \n"
     ]
    },
    {
     "name": "stdout",
     "output_type": "stream",
     "text": [
      "w\n",
      "y\n",
      "t\n",
      "e\n"
     ]
    }
   ],
   "source": [
    "##第二题\n",
    "list=input(\"输入：\").split()\n",
    "x=len(list)\n",
    "while(x>=1):\n",
    "    print(list[x-1])\n",
    "    x=x-1\n"
   ]
  },
  {
   "cell_type": "code",
   "execution_count": 12,
   "id": "16a26beb-efc2-46e1-b6fc-2f994e1d2de9",
   "metadata": {},
   "outputs": [
    {
     "name": "stdin",
     "output_type": "stream",
     "text": [
      "input: wwww\n"
     ]
    }
   ],
   "source": [
    "##第三题\n",
    "str=input(\"input:\")\n",
    "i=0\n",
    "j=0\n",
    "lenth=len(str)-1\n",
    "max=0\n",
    "while(j<=lenth-1 and i<=lenth):\n",
    "    if(str[j]==str[j+1] ):\n",
    "            j=j+1\n",
    "            if(j-i>max):\n",
    "                max=j-i+1\n",
    "                \n",
    "    \n",
    "    elif(j+1>lenth-1):\n",
    "        print(max)\n",
    "        break\n",
    "    else:\n",
    "        if(j+1<=lenth):\n",
    "                 i=j+1\n",
    "                 j=j+1\n",
    "    "
   ]
  },
  {
   "cell_type": "code",
   "execution_count": 4,
   "id": "1376a27c-3e96-4458-9d79-f20c7f1d1279",
   "metadata": {},
   "outputs": [
    {
     "name": "stdin",
     "output_type": "stream",
     "text": [
      "input: r  ee ww \n"
     ]
    },
    {
     "name": "stdout",
     "output_type": "stream",
     "text": [
      "reeww\n"
     ]
    }
   ],
   "source": [
    "##第四题\n",
    "\n",
    "str=input(\"input:\")\n",
    "str=str.replace(\" \",\"\")\n",
    "print(str)"
   ]
  },
  {
   "cell_type": "code",
   "execution_count": 5,
   "id": "99b38bc0-679f-46f0-bbbd-f11a21575387",
   "metadata": {},
   "outputs": [
    {
     "name": "stdout",
     "output_type": "stream",
     "text": [
      "0.5838288\n"
     ]
    }
   ],
   "source": [
    "##蒙特卡洛\n",
    "\n",
    "import random\n",
    "import math\n",
    "S = 2\n",
    "N = 10000000\n",
    "C = 0\n",
    "for i in range(N):\n",
    "    x = random.uniform(0,1)\n",
    "    y = random.uniform(0.0,2)\n",
    "    if y <= (x*x)+(x*x*x):\n",
    "        C += 1\n",
    "I = C / N * S\n",
    "print(I)\n",
    "      "
   ]
  },
  {
   "cell_type": "code",
   "execution_count": null,
   "id": "79ab4695-3188-4e47-bb65-08462bf45ece",
   "metadata": {},
   "outputs": [],
   "source": [
    "##1方法球根号二\n",
    "import math\n",
    "def sque():\n",
    "    i=0\n",
    "    c=2\n",
    "    max=c\n",
    "    min=0\n",
    "    g=(min+max)/2\n",
    "    while(abs(g*g-c)>0.000000001):\n",
    "        if(g*g<c):\n",
    "            min=g\n",
    "        else :\n",
    "            max=g\n",
    "        g=(min+max)/2\n",
    "        i=i+1\n",
    "    print(\"%d:g = %.13f\" %  (i,g))\n",
    "sque()"
   ]
  },
  {
   "cell_type": "code",
   "execution_count": null,
   "id": "748dd6df-5f9c-48d7-9cf3-79de7ff6cf56",
   "metadata": {},
   "outputs": [],
   "source": [
    "##第二种方法\n",
    "\n",
    "import random\n",
    "import math\n",
    "S = 2\n",
    "N = 10000000\n",
    "C = 0\n",
    "for i in range(N):\n",
    "    x = random.uniform(0,1)\n",
    "    y = random.uniform(0.0,2)\n",
    "    if y <= math.sqrt(2):\n",
    "        C += 1\n",
    "I = C / N * S\n",
    "print(I)"
   ]
  },
  {
   "cell_type": "code",
   "execution_count": null,
   "id": "1da1d1e7-5ed4-41f6-be51-abeb9aae7e57",
   "metadata": {},
   "outputs": [],
   "source": [
    "##第三种方法\n",
    "\n",
    "import math\n",
    "c=2\n",
    "g=1\n",
    "i=0\n",
    "while(abs(g*g-c)>=0.0000000001):\n",
    "    g=(g+c/g)/2\n",
    "    i=i+1\n",
    "print(\"%d:%.13f\" %(i,g))"
   ]
  },
  {
   "cell_type": "code",
   "execution_count": null,
   "id": "da8dabaf-50c2-48cc-b237-bd3b88847b99",
   "metadata": {},
   "outputs": [],
   "source": [
    "##随机求Π*1\n",
    "import random\n",
    "import math\n",
    "s=2\n",
    "n=10000000\n",
    "c=0\n",
    "for i in range(n):\n",
    "    x=random.uniform(0,1)\n",
    "    y=random.uniform(0,1)\n",
    "    if y<=math.sqrt(1-(x*x)):\n",
    "        c+=1\n",
    "i=4*c/n\n",
    "print(i)"
   ]
  },
  {
   "cell_type": "code",
   "execution_count": null,
   "id": "e233784e-23e1-4a59-ae91-6e2c7ccd8e3e",
   "metadata": {},
   "outputs": [],
   "source": [
    "##求Π*2"
   ]
  }
 ],
 "metadata": {
  "kernelspec": {
   "display_name": "Python 3 (ipykernel)",
   "language": "python",
   "name": "python3"
  },
  "language_info": {
   "codemirror_mode": {
    "name": "ipython",
    "version": 3
   },
   "file_extension": ".py",
   "mimetype": "text/x-python",
   "name": "python",
   "nbconvert_exporter": "python",
   "pygments_lexer": "ipython3",
   "version": "3.9.12"
  }
 },
 "nbformat": 4,
 "nbformat_minor": 5
}
